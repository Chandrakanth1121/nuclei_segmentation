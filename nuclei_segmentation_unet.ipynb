{
 "cells": [
  {
   "cell_type": "code",
   "execution_count": 1,
   "metadata": {},
   "outputs": [
    {
     "ename": "ModuleNotFoundError",
     "evalue": "No module named 'tensorflow'",
     "output_type": "error",
     "traceback": [
      "\u001b[0;31m---------------------------------------------------------------------------\u001b[0m",
      "\u001b[0;31mModuleNotFoundError\u001b[0m                       Traceback (most recent call last)",
      "\u001b[0;32m<ipython-input-1-73ec4f639202>\u001b[0m in \u001b[0;36m<module>\u001b[0;34m\u001b[0m\n\u001b[1;32m     14\u001b[0m \u001b[0;32mfrom\u001b[0m \u001b[0mskimage\u001b[0m\u001b[0;34m.\u001b[0m\u001b[0mmorphology\u001b[0m \u001b[0;32mimport\u001b[0m \u001b[0mlabel\u001b[0m\u001b[0;34m\u001b[0m\u001b[0;34m\u001b[0m\u001b[0m\n\u001b[1;32m     15\u001b[0m \u001b[0;34m\u001b[0m\u001b[0m\n\u001b[0;32m---> 16\u001b[0;31m \u001b[0;32mfrom\u001b[0m \u001b[0mtensorflow\u001b[0m\u001b[0;34m.\u001b[0m\u001b[0mkeras\u001b[0m\u001b[0;34m.\u001b[0m\u001b[0mmodels\u001b[0m \u001b[0;32mimport\u001b[0m \u001b[0mModel\u001b[0m\u001b[0;34m,\u001b[0m \u001b[0mload_model\u001b[0m\u001b[0;34m\u001b[0m\u001b[0;34m\u001b[0m\u001b[0m\n\u001b[0m\u001b[1;32m     17\u001b[0m \u001b[0;32mfrom\u001b[0m \u001b[0mtensorflow\u001b[0m\u001b[0;34m.\u001b[0m\u001b[0mkeras\u001b[0m \u001b[0;32mimport\u001b[0m \u001b[0mSequential\u001b[0m\u001b[0;34m\u001b[0m\u001b[0;34m\u001b[0m\u001b[0m\n\u001b[1;32m     18\u001b[0m \u001b[0;32mfrom\u001b[0m \u001b[0mtensorflow\u001b[0m\u001b[0;34m.\u001b[0m\u001b[0mkeras\u001b[0m\u001b[0;34m.\u001b[0m\u001b[0mlayers\u001b[0m \u001b[0;32mimport\u001b[0m \u001b[0mInput\u001b[0m\u001b[0;34m,\u001b[0m\u001b[0mDropout\u001b[0m\u001b[0;34m,\u001b[0m \u001b[0mLambda\u001b[0m\u001b[0;34m,\u001b[0m\u001b[0mConv2D\u001b[0m\u001b[0;34m,\u001b[0m \u001b[0mConv2DTranspose\u001b[0m\u001b[0;34m,\u001b[0m\u001b[0mMaxPooling2D\u001b[0m\u001b[0;34m,\u001b[0m\u001b[0mconcatenate\u001b[0m\u001b[0;34m\u001b[0m\u001b[0;34m\u001b[0m\u001b[0m\n",
      "\u001b[0;31mModuleNotFoundError\u001b[0m: No module named 'tensorflow'"
     ]
    }
   ],
   "source": [
    "import os\n",
    "import sys\n",
    "import random\n",
    "import warnings\n",
    "\n",
    "import numpy as np\n",
    "import pandas as pd\n",
    "\n",
    "import matplotlib.pyplot as plt\n",
    "\n",
    "from itertools import chain\n",
    "from skimage.io import imread, imshow, imread_collection, concatenate_images\n",
    "from skimage.transform import resize\n",
    "from skimage.morphology import label\n",
    "\n",
    "from tensorflow.keras.models import Model, load_model\n",
    "from tensorflow.keras import Sequential\n",
    "from tensorflow.keras.layers import Input,Dropout, Lambda,Conv2D, Conv2DTranspose,MaxPooling2D,concatenate\n",
    "from tensorflow.keras.callbacks import EarlyStopping, ModelCheckpoint\n",
    "from tensorflow.keras import backend as K\n",
    "\n",
    "import tensorflow as tf"
   ]
  },
  {
   "cell_type": "code",
   "execution_count": 2,
   "metadata": {},
   "outputs": [],
   "source": [
    "IMG_WIDTH = 128\n",
    "IMG_HEIGHT = 128\n",
    "IMG_CHANNELS = 3"
   ]
  },
  {
   "cell_type": "code",
   "execution_count": 3,
   "metadata": {},
   "outputs": [],
   "source": [
    "TRAIN_PATH = 'stage1_train/'\n",
    "TEST_PATH = 'stage1_test/'"
   ]
  },
  {
   "cell_type": "code",
   "execution_count": 4,
   "metadata": {},
   "outputs": [],
   "source": [
    "seed=40\n",
    "random.seed = seed\n",
    "np.random.seed = seed"
   ]
  },
  {
   "cell_type": "code",
   "execution_count": 5,
   "metadata": {},
   "outputs": [],
   "source": [
    "train_ids = next(os.walk(TRAIN_PATH))[1]\n",
    "test_ids = next(os.walk(TEST_PATH))[1]"
   ]
  },
  {
   "cell_type": "code",
   "execution_count": 6,
   "metadata": {},
   "outputs": [
    {
     "name": "stdout",
     "output_type": "stream",
     "text": [
      "Number of training images:\n",
      "670\n"
     ]
    }
   ],
   "source": [
    "print(\"Number of training images:\")\n",
    "print(len(train_ids))"
   ]
  },
  {
   "cell_type": "code",
   "execution_count": 7,
   "metadata": {},
   "outputs": [
    {
     "name": "stdout",
     "output_type": "stream",
     "text": [
      "Number of testing images:\n",
      "65\n"
     ]
    }
   ],
   "source": [
    "print(\"Number of testing images:\")\n",
    "print(len(test_ids))"
   ]
  },
  {
   "cell_type": "code",
   "execution_count": 8,
   "metadata": {},
   "outputs": [],
   "source": [
    "from tqdm.notebook import tqdm"
   ]
  },
  {
   "cell_type": "code",
   "execution_count": 9,
   "metadata": {},
   "outputs": [
    {
     "data": {
      "application/vnd.jupyter.widget-view+json": {
       "model_id": "428d7a85f1c24dcfbb63121c3dff4589",
       "version_major": 2,
       "version_minor": 0
      },
      "text/plain": [
       "HBox(children=(FloatProgress(value=1.0, bar_style='info', layout=Layout(width='20px'), max=1.0), HTML(value=''…"
      ]
     },
     "metadata": {},
     "output_type": "display_data"
    },
    {
     "name": "stdout",
     "output_type": "stream",
     "text": [
      "\n"
     ]
    }
   ],
   "source": [
    "#input training images and masks:\n",
    "X_train = np.zeros((len(train_ids), IMG_HEIGHT, IMG_WIDTH, IMG_CHANNELS), dtype=np.uint8)\n",
    "Y_train = np.zeros((len(train_ids), IMG_HEIGHT, IMG_WIDTH, 1), dtype=np.bool)\n",
    "sys.stdout.flush()\n",
    "tr_ids=enumerate(train_ids)\n",
    "for n, id_ in tqdm(tr_ids):\n",
    "    path = TRAIN_PATH + id_\n",
    "    img = imread(path + '/images/' + id_ + '.png')[:,:,:IMG_CHANNELS]\n",
    "    img = resize(img, (IMG_HEIGHT, IMG_WIDTH), mode='constant', preserve_range=True)\n",
    "    X_train[n] = img\n",
    "    mask = np.zeros((IMG_HEIGHT, IMG_WIDTH, 1), dtype=np.bool)\n",
    "    for mask_file in next(os.walk(path + '/masks/'))[2]:\n",
    "        mask_ = imread(path + '/masks/' + mask_file)\n",
    "        mask_ = np.expand_dims(resize(mask_, (IMG_HEIGHT, IMG_WIDTH), mode='constant', \n",
    "                                      preserve_range=True), axis=-1)\n",
    "        mask = np.maximum(mask, mask_)\n",
    "    Y_train[n] = mask"
   ]
  },
  {
   "cell_type": "code",
   "execution_count": 10,
   "metadata": {},
   "outputs": [],
   "source": [
    "from PIL import Image\n",
    "from IPython.display import display"
   ]
  },
  {
   "cell_type": "code",
   "execution_count": 11,
   "metadata": {},
   "outputs": [
    {
     "data": {
      "image/png": "[encoded data removed]",
      "text/plain": [
       "<PIL.Image.Image image mode=RGB size=128x128 at 0x7F84A83D8198>"
      ]
     },
     "metadata": {},
     "output_type": "display_data"
    },
    {
     "data": {
      "image/png": "[encoded data removed]",
      "text/plain": [
       "<PIL.Image.Image image mode=1 size=128x128 at 0x7F8420FB6470>"
      ]
     },
     "metadata": {},
     "output_type": "display_data"
    }
   ],
   "source": [
    "#example train image and mask\n",
    "ix = random.randint(0, len(train_ids))\n",
    "display(Image.fromarray(X_train[ix]))\n",
    "display(Image.fromarray(np.squeeze(Y_train[ix])))\n"
   ]
  },
  {
   "cell_type": "code",
   "execution_count": 12,
   "metadata": {},
   "outputs": [
    {
     "data": {
      "application/vnd.jupyter.widget-view+json": {
       "model_id": "2fbd65318bcd43d093eb89f111c70010",
       "version_major": 2,
       "version_minor": 0
      },
      "text/plain": [
       "HBox(children=(FloatProgress(value=1.0, bar_style='info', layout=Layout(width='20px'), max=1.0), HTML(value=''…"
      ]
     },
     "metadata": {},
     "output_type": "display_data"
    },
    {
     "name": "stdout",
     "output_type": "stream",
     "text": [
      "\n"
     ]
    }
   ],
   "source": [
    "#input testing images\n",
    "X_test = np.zeros((len(test_ids), IMG_HEIGHT, IMG_WIDTH, IMG_CHANNELS), dtype=np.uint8)\n",
    "sizes_test = []\n",
    "sys.stdout.flush()\n",
    "for n, id_ in tqdm(enumerate(test_ids)):\n",
    "    path = TEST_PATH + id_\n",
    "    img = imread(path + '/images/' + id_ + '.png')[:,:,:IMG_CHANNELS]\n",
    "    sizes_test.append([img.shape[0], img.shape[1]])\n",
    "    img = resize(img, (IMG_HEIGHT, IMG_WIDTH), mode='constant', preserve_range=True)\n",
    "    X_test[n] = img\n"
   ]
  },
  {
   "cell_type": "code",
   "execution_count": 13,
   "metadata": {},
   "outputs": [
    {
     "name": "stdout",
     "output_type": "stream",
     "text": [
      "(65, 128, 128, 3)\n"
     ]
    }
   ],
   "source": [
    "print(np.shape(X_test))"
   ]
  },
  {
   "cell_type": "code",
   "execution_count": 14,
   "metadata": {},
   "outputs": [
    {
     "name": "stdout",
     "output_type": "stream",
     "text": [
      "__________________________________________________________________________________________________\n",
      "Layer (type)                    Output Shape         Param #     Connected to                     \n",
      "==================================================================================================\n",
      "input_1 (InputLayer)            (None, 128, 128, 3)  0                                            \n",
      "__________________________________________________________________________________________________\n",
      "lambda (Lambda)                 (None, 128, 128, 3)  0           input_1[0][0]                    \n",
      "__________________________________________________________________________________________________\n",
      "conv2d (Conv2D)                 (None, 128, 128, 16) 448         lambda[0][0]                     \n",
      "__________________________________________________________________________________________________\n",
      "dropout (Dropout)               (None, 128, 128, 16) 0           conv2d[0][0]                     \n",
      "__________________________________________________________________________________________________\n",
      "conv2d_1 (Conv2D)               (None, 128, 128, 16) 2320        dropout[0][0]                    \n",
      "__________________________________________________________________________________________________\n",
      "max_pooling2d (MaxPooling2D)    (None, 64, 64, 16)   0           conv2d_1[0][0]                   \n",
      "__________________________________________________________________________________________________\n",
      "conv2d_2 (Conv2D)               (None, 64, 64, 32)   4640        max_pooling2d[0][0]              \n",
      "__________________________________________________________________________________________________\n",
      "dropout_1 (Dropout)             (None, 64, 64, 32)   0           conv2d_2[0][0]                   \n",
      "__________________________________________________________________________________________________\n",
      "conv2d_3 (Conv2D)               (None, 64, 64, 32)   9248        dropout_1[0][0]                  \n",
      "__________________________________________________________________________________________________\n",
      "max_pooling2d_1 (MaxPooling2D)  (None, 32, 32, 32)   0           conv2d_3[0][0]                   \n",
      "__________________________________________________________________________________________________\n",
      "conv2d_4 (Conv2D)               (None, 32, 32, 64)   18496       max_pooling2d_1[0][0]            \n",
      "__________________________________________________________________________________________________\n",
      "dropout_2 (Dropout)             (None, 32, 32, 64)   0           conv2d_4[0][0]                   \n",
      "__________________________________________________________________________________________________\n",
      "conv2d_5 (Conv2D)               (None, 32, 32, 64)   36928       dropout_2[0][0]                  \n",
      "__________________________________________________________________________________________________\n",
      "max_pooling2d_2 (MaxPooling2D)  (None, 16, 16, 64)   0           conv2d_5[0][0]                   \n",
      "__________________________________________________________________________________________________\n",
      "conv2d_6 (Conv2D)               (None, 16, 16, 128)  73856       max_pooling2d_2[0][0]            \n",
      "__________________________________________________________________________________________________\n",
      "dropout_3 (Dropout)             (None, 16, 16, 128)  0           conv2d_6[0][0]                   \n",
      "__________________________________________________________________________________________________\n",
      "conv2d_7 (Conv2D)               (None, 16, 16, 128)  147584      dropout_3[0][0]                  \n",
      "__________________________________________________________________________________________________\n",
      "max_pooling2d_3 (MaxPooling2D)  (None, 8, 8, 128)    0           conv2d_7[0][0]                   \n",
      "__________________________________________________________________________________________________\n",
      "conv2d_8 (Conv2D)               (None, 8, 8, 256)    295168      max_pooling2d_3[0][0]            \n",
      "__________________________________________________________________________________________________\n",
      "dropout_4 (Dropout)             (None, 8, 8, 256)    0           conv2d_8[0][0]                   \n",
      "__________________________________________________________________________________________________\n",
      "conv2d_9 (Conv2D)               (None, 8, 8, 256)    590080      dropout_4[0][0]                  \n",
      "__________________________________________________________________________________________________\n",
      "conv2d_transpose (Conv2DTranspo (None, 16, 16, 128)  131200      conv2d_9[0][0]                   \n",
      "__________________________________________________________________________________________________\n",
      "concatenate (Concatenate)       (None, 16, 16, 256)  0           conv2d_transpose[0][0]           \n",
      "                                                                 conv2d_7[0][0]                   \n",
      "__________________________________________________________________________________________________\n",
      "conv2d_10 (Conv2D)              (None, 16, 16, 128)  295040      concatenate[0][0]                \n",
      "__________________________________________________________________________________________________\n",
      "dropout_5 (Dropout)             (None, 16, 16, 128)  0           conv2d_10[0][0]                  \n",
      "__________________________________________________________________________________________________\n",
      "conv2d_11 (Conv2D)              (None, 16, 16, 128)  147584      dropout_5[0][0]                  \n",
      "__________________________________________________________________________________________________\n",
      "conv2d_transpose_1 (Conv2DTrans (None, 32, 32, 64)   32832       conv2d_11[0][0]                  \n",
      "__________________________________________________________________________________________________\n",
      "concatenate_1 (Concatenate)     (None, 32, 32, 128)  0           conv2d_transpose_1[0][0]         \n",
      "                                                                 conv2d_5[0][0]                   \n",
      "__________________________________________________________________________________________________\n",
      "conv2d_12 (Conv2D)              (None, 32, 32, 64)   73792       concatenate_1[0][0]              \n",
      "__________________________________________________________________________________________________\n",
      "dropout_6 (Dropout)             (None, 32, 32, 64)   0           conv2d_12[0][0]                  \n",
      "__________________________________________________________________________________________________\n",
      "conv2d_13 (Conv2D)              (None, 32, 32, 64)   36928       dropout_6[0][0]                  \n",
      "__________________________________________________________________________________________________\n",
      "conv2d_transpose_2 (Conv2DTrans (None, 64, 64, 32)   8224        conv2d_13[0][0]                  \n",
      "__________________________________________________________________________________________________\n",
      "concatenate_2 (Concatenate)     (None, 64, 64, 64)   0           conv2d_transpose_2[0][0]         \n",
      "                                                                 conv2d_3[0][0]                   \n",
      "__________________________________________________________________________________________________\n",
      "conv2d_14 (Conv2D)              (None, 64, 64, 32)   18464       concatenate_2[0][0]              \n",
      "__________________________________________________________________________________________________\n",
      "dropout_7 (Dropout)             (None, 64, 64, 32)   0           conv2d_14[0][0]                  \n",
      "__________________________________________________________________________________________________\n",
      "conv2d_15 (Conv2D)              (None, 64, 64, 32)   9248        dropout_7[0][0]                  \n",
      "__________________________________________________________________________________________________\n",
      "conv2d_transpose_3 (Conv2DTrans (None, 128, 128, 16) 2064        conv2d_15[0][0]                  \n",
      "__________________________________________________________________________________________________\n",
      "concatenate_3 (Concatenate)     (None, 128, 128, 32) 0           conv2d_transpose_3[0][0]         \n",
      "                                                                 conv2d_1[0][0]                   \n",
      "__________________________________________________________________________________________________\n",
      "conv2d_16 (Conv2D)              (None, 128, 128, 16) 4624        concatenate_3[0][0]              \n",
      "__________________________________________________________________________________________________\n",
      "dropout_8 (Dropout)             (None, 128, 128, 16) 0           conv2d_16[0][0]                  \n",
      "__________________________________________________________________________________________________\n",
      "conv2d_17 (Conv2D)              (None, 128, 128, 16) 2320        dropout_8[0][0]                  \n",
      "__________________________________________________________________________________________________\n",
      "conv2d_18 (Conv2D)              (None, 128, 128, 1)  17          conv2d_17[0][0]                  \n",
      "==================================================================================================\n",
      "Total params: 1,941,105\n",
      "Trainable params: 1,941,105\n",
      "Non-trainable params: 0\n",
      "__________________________________________________________________________________________________\n"
     ]
    }
   ],
   "source": [
    "inputs = Input((IMG_HEIGHT, IMG_WIDTH, IMG_CHANNELS))\n",
    "s = Lambda(lambda x: x / 255) (inputs)\n",
    "\n",
    "\n",
    "c1 = Conv2D(16, (3, 3), activation='relu', padding='same') (s)\n",
    "c1 = Dropout(0.1) (c1)\n",
    "c1 = Conv2D(16, (3, 3), activation='relu', padding='same') (c1)\n",
    "p1 = MaxPooling2D((2, 2),strides=2) (c1)\n",
    "\n",
    "c2 = Conv2D(32, (3, 3), activation='relu', padding='same') (p1)\n",
    "c2 = Dropout(0.1) (c2)\n",
    "c2 = Conv2D(32, (3, 3), activation='relu', padding='same') (c2)\n",
    "p2 = MaxPooling2D((2, 2),strides=2) (c2)\n",
    "\n",
    "c3 = Conv2D(64, (3, 3), activation='relu', padding='same') (p2)\n",
    "c3 = Dropout(0.1) (c3)\n",
    "c3 = Conv2D(64, (3, 3), activation='relu', padding='same') (c3)\n",
    "p3 = MaxPooling2D((2, 2),strides=2) (c3)\n",
    "\n",
    "c4 = Conv2D(128, (3, 3), activation='relu', padding='same') (p3)\n",
    "c4 = Dropout(0.1) (c4)\n",
    "c4 = Conv2D(128, (3, 3), activation='relu', padding='same') (c4)\n",
    "p4 = MaxPooling2D(pool_size=(2, 2),strides=2) (c4)\n",
    "\n",
    "c5 = Conv2D(256, (3, 3), activation='relu', padding='same') (p4)\n",
    "c5 = Dropout(0.1) (c5)\n",
    "c5 = Conv2D(256, (3, 3), activation='relu', padding='same') (c5)\n",
    "\n",
    "u6 = Conv2DTranspose(128, (2, 2), strides=(2, 2), padding='same') (c5)\n",
    "u6 = concatenate([u6, c4])\n",
    "c6 = Conv2D(128, (3, 3), activation='relu', padding='same') (u6)\n",
    "c6 = Dropout(0.1) (c6)\n",
    "c6 = Conv2D(128, (3, 3), activation='relu', padding='same') (c6)\n",
    "\n",
    "u7 = Conv2DTranspose(64, (2, 2), strides=(2, 2), padding='same') (c6)\n",
    "u7 = concatenate([u7, c3])\n",
    "c7 = Conv2D(64, (3, 3), activation='relu', padding='same') (u7)\n",
    "c7 = Dropout(0.1) (c7)\n",
    "c7 = Conv2D(64, (3, 3), activation='relu', padding='same') (c7)\n",
    "\n",
    "u8 = Conv2DTranspose(32, (2, 2), strides=(2, 2), padding='same') (c7)\n",
    "u8 = concatenate([u8, c2])\n",
    "c8 = Conv2D(32, (3, 3), activation='relu', padding='same') (u8)\n",
    "c8 = Dropout(0.1) (c8)\n",
    "c8 = Conv2D(32, (3, 3), activation='relu', padding='same') (c8)\n",
    "\n",
    "u9 = Conv2DTranspose(16, (2, 2), strides=(2, 2), padding='same') (c8)\n",
    "u9 = concatenate([u9, c1], axis=3)\n",
    "c9 = Conv2D(16, (3, 3), activation='relu', padding='same') (u9)\n",
    "c9 = Dropout(0.1) (c9)\n",
    "c9 = Conv2D(16, (3, 3), activation='relu', padding='same') (c9)\n",
    "\n",
    "outputs = Conv2D(1, (1, 1), activation='sigmoid') (c9)\n",
    "\n",
    "model = Model(inputs=[inputs], outputs=[outputs])\n",
    "model.compile(optimizer='adam', loss='binary_crossentropy', metrics=['accuracy'])\n",
    "model.summary()\n"
   ]
  },
  {
   "cell_type": "code",
   "execution_count": null,
   "metadata": {},
   "outputs": [
    {
     "name": "stdout",
     "output_type": "stream",
     "text": [
      "Train on 603 samples, validate on 67 samples\n",
      "Epoch 1/50\n",
      "592/603 [============================>.] - ETA: 1s - loss: 9.2144 - acc: 0.8001\n",
      "Epoch 00001: val_loss improved from inf to 6.81255, saving model to u-net-segmentation.h5\n",
      "603/603 [==============================] - 86s 143ms/step - loss: 9.1351 - acc: 0.7998 - val_loss: 6.8125 - val_acc: 0.7835\n",
      "Epoch 2/50\n",
      "592/603 [============================>.] - ETA: 1s - loss: 5.5888 - acc: 0.8279\n",
      "Epoch 00002: val_loss improved from 6.81255 to 4.58314, saving model to u-net-segmentation.h5\n",
      "603/603 [==============================] - 88s 146ms/step - loss: 5.5368 - acc: 0.8295 - val_loss: 4.5831 - val_acc: 0.8833\n",
      "Epoch 3/50\n",
      "592/603 [============================>.] - ETA: 1s - loss: 3.5315 - acc: 0.9132\n",
      "Epoch 00003: val_loss improved from 4.58314 to 3.27193, saving model to u-net-segmentation.h5\n",
      "603/603 [==============================] - 87s 145ms/step - loss: 3.4954 - acc: 0.9138 - val_loss: 3.2719 - val_acc: 0.9139\n",
      "Epoch 4/50\n",
      "592/603 [============================>.] - ETA: 1s - loss: 2.5416 - acc: 0.9385\n",
      "Epoch 00004: val_loss improved from 3.27193 to 2.32982, saving model to u-net-segmentation.h5\n",
      "603/603 [==============================] - 86s 142ms/step - loss: 2.5279 - acc: 0.9384 - val_loss: 2.3298 - val_acc: 0.9373\n",
      "Epoch 5/50\n",
      "592/603 [============================>.] - ETA: 1s - loss: 2.2631 - acc: 0.9459\n",
      "Epoch 00005: val_loss improved from 2.32982 to 2.05592, saving model to u-net-segmentation.h5\n",
      "603/603 [==============================] - 87s 144ms/step - loss: 2.2367 - acc: 0.9464 - val_loss: 2.0559 - val_acc: 0.9482\n",
      "Epoch 6/50\n",
      "592/603 [============================>.] - ETA: 1s - loss: 1.9939 - acc: 0.9525\n",
      "Epoch 00006: val_loss did not improve from 2.05592\n",
      "603/603 [==============================] - 85s 140ms/step - loss: 1.9899 - acc: 0.9522 - val_loss: 2.0776 - val_acc: 0.9458\n",
      "Epoch 7/50\n",
      "592/603 [============================>.] - ETA: 1s - loss: 1.8081 - acc: 0.9568\n",
      "Epoch 00007: val_loss improved from 2.05592 to 1.77908, saving model to u-net-segmentation.h5\n",
      "603/603 [==============================] - 85s 141ms/step - loss: 1.8000 - acc: 0.9567 - val_loss: 1.7791 - val_acc: 0.9557\n",
      "Epoch 8/50\n",
      "592/603 [============================>.] - ETA: 1s - loss: 1.6852 - acc: 0.9597\n",
      "Epoch 00008: val_loss improved from 1.77908 to 1.62628, saving model to u-net-segmentation.h5\n",
      "603/603 [==============================] - 87s 144ms/step - loss: 1.6701 - acc: 0.9599 - val_loss: 1.6263 - val_acc: 0.9591\n",
      "Epoch 9/50\n",
      "592/603 [============================>.] - ETA: 1s - loss: 1.5894 - acc: 0.9616\n",
      "Epoch 00009: val_loss did not improve from 1.62628\n",
      "603/603 [==============================] - 88s 146ms/step - loss: 1.5762 - acc: 0.9617 - val_loss: 1.6513 - val_acc: 0.9574\n",
      "Epoch 10/50\n",
      "592/603 [============================>.] - ETA: 1s - loss: 1.8957 - acc: 0.9556\n",
      "Epoch 00010: val_loss did not improve from 1.62628\n",
      "603/603 [==============================] - 87s 143ms/step - loss: 1.8860 - acc: 0.9555 - val_loss: 1.6908 - val_acc: 0.9563\n",
      "Epoch 11/50\n",
      "592/603 [============================>.] - ETA: 1s - loss: 1.5810 - acc: 0.9618\n",
      "Epoch 00011: val_loss improved from 1.62628 to 1.61326, saving model to u-net-segmentation.h5\n",
      "603/603 [==============================] - 85s 140ms/step - loss: 1.5808 - acc: 0.9615 - val_loss: 1.6133 - val_acc: 0.9590\n",
      "Epoch 12/50\n",
      "592/603 [============================>.] - ETA: 1s - loss: 1.6432 - acc: 0.9605\n",
      "Epoch 00012: val_loss improved from 1.61326 to 1.54323, saving model to u-net-segmentation.h5\n",
      "603/603 [==============================] - 87s 144ms/step - loss: 1.6329 - acc: 0.9605 - val_loss: 1.5432 - val_acc: 0.9602\n",
      "Epoch 13/50\n",
      "592/603 [============================>.] - ETA: 1s - loss: 1.4834 - acc: 0.9642\n",
      "Epoch 00013: val_loss did not improve from 1.54323\n",
      "603/603 [==============================] - 88s 146ms/step - loss: 1.4768 - acc: 0.9641 - val_loss: 1.5689 - val_acc: 0.9609\n",
      "Epoch 14/50\n",
      "592/603 [============================>.] - ETA: 1s - loss: 1.4688 - acc: 0.9644\n",
      "Epoch 00014: val_loss improved from 1.54323 to 1.48985, saving model to u-net-segmentation.h5\n",
      "603/603 [==============================] - 88s 145ms/step - loss: 1.4563 - acc: 0.9645 - val_loss: 1.4899 - val_acc: 0.9626\n",
      "Epoch 15/50\n",
      "592/603 [============================>.] - ETA: 1s - loss: 1.4598 - acc: 0.9646\n",
      "Epoch 00015: val_loss improved from 1.48985 to 1.46357, saving model to u-net-segmentation.h5\n",
      "603/603 [==============================] - 86s 143ms/step - loss: 1.4472 - acc: 0.9647 - val_loss: 1.4636 - val_acc: 0.9627\n",
      "Epoch 16/50\n",
      "592/603 [============================>.] - ETA: 1s - loss: 1.4028 - acc: 0.9658\n",
      "Epoch 00016: val_loss improved from 1.46357 to 1.37077, saving model to u-net-segmentation.h5\n",
      "603/603 [==============================] - 89s 147ms/step - loss: 1.3902 - acc: 0.9660 - val_loss: 1.3708 - val_acc: 0.9652\n",
      "Epoch 17/50\n",
      "592/603 [============================>.] - ETA: 1s - loss: 1.4719 - acc: 0.9646\n",
      "Epoch 00017: val_loss did not improve from 1.37077\n",
      "603/603 [==============================] - 85s 141ms/step - loss: 1.4576 - acc: 0.9648 - val_loss: 1.5150 - val_acc: 0.9613\n",
      "Epoch 18/50\n",
      "592/603 [============================>.] - ETA: 1s - loss: 1.3859 - acc: 0.9663\n",
      "Epoch 00018: val_loss did not improve from 1.37077\n",
      "603/603 [==============================] - 83s 138ms/step - loss: 1.3722 - acc: 0.9665 - val_loss: 1.3829 - val_acc: 0.9651\n",
      "Epoch 19/50\n",
      "592/603 [============================>.] - ETA: 1s - loss: 1.3985 - acc: 0.9661\n",
      "Epoch 00019: val_loss did not improve from 1.37077\n",
      "603/603 [==============================] - 83s 138ms/step - loss: 1.3863 - acc: 0.9663 - val_loss: 1.4192 - val_acc: 0.9645\n",
      "Epoch 20/50\n",
      "592/603 [============================>.] - ETA: 1s - loss: 1.3683 - acc: 0.9663\n",
      "Epoch 00020: val_loss did not improve from 1.37077\n",
      "603/603 [==============================] - 85s 141ms/step - loss: 1.3745 - acc: 0.9661 - val_loss: 1.3740 - val_acc: 0.9653\n",
      "Epoch 21/50\n",
      "592/603 [============================>.] - ETA: 1s - loss: 1.3665 - acc: 0.9664\n",
      "Epoch 00021: val_loss improved from 1.37077 to 1.34782, saving model to u-net-segmentation.h5\n",
      "603/603 [==============================] - 87s 145ms/step - loss: 1.3679 - acc: 0.9663 - val_loss: 1.3478 - val_acc: 0.9658\n",
      "Epoch 22/50\n",
      "592/603 [============================>.] - ETA: 1s - loss: 1.3457 - acc: 0.9674\n",
      "Epoch 00022: val_loss improved from 1.34782 to 1.34087, saving model to u-net-segmentation.h5\n",
      "603/603 [==============================] - 89s 147ms/step - loss: 1.3377 - acc: 0.9674 - val_loss: 1.3409 - val_acc: 0.9653\n",
      "Epoch 23/50\n",
      "592/603 [============================>.] - ETA: 1s - loss: 1.3615 - acc: 0.9667\n",
      "Epoch 00023: val_loss improved from 1.34087 to 1.33453, saving model to u-net-segmentation.h5\n",
      "603/603 [==============================] - 88s 146ms/step - loss: 1.3468 - acc: 0.9670 - val_loss: 1.3345 - val_acc: 0.9665\n",
      "Epoch 24/50\n",
      "592/603 [============================>.] - ETA: 1s - loss: 1.3470 - acc: 0.9668\n",
      "Epoch 00024: val_loss improved from 1.33453 to 1.32898, saving model to u-net-segmentation.h5\n",
      "603/603 [==============================] - 85s 140ms/step - loss: 1.3399 - acc: 0.9668 - val_loss: 1.3290 - val_acc: 0.9665\n",
      "Epoch 25/50\n",
      "592/603 [============================>.] - ETA: 1s - loss: 1.3061 - acc: 0.9680\n",
      "Epoch 00025: val_loss did not improve from 1.32898\n",
      "603/603 [==============================] - 85s 140ms/step - loss: 1.2968 - acc: 0.9680 - val_loss: 1.3480 - val_acc: 0.9666\n",
      "Epoch 26/50\n",
      "592/603 [============================>.] - ETA: 1s - loss: 1.2975 - acc: 0.9682\n",
      "Epoch 00026: val_loss improved from 1.32898 to 1.28507, saving model to u-net-segmentation.h5\n",
      "603/603 [==============================] - 84s 140ms/step - loss: 1.2840 - acc: 0.9684 - val_loss: 1.2851 - val_acc: 0.9668\n",
      "Epoch 27/50\n",
      "592/603 [============================>.] - ETA: 1s - loss: 1.3318 - acc: 0.9674\n",
      "Epoch 00027: val_loss did not improve from 1.28507\n",
      "603/603 [==============================] - 87s 144ms/step - loss: 1.3190 - acc: 0.9676 - val_loss: 1.3956 - val_acc: 0.9650\n",
      "Epoch 28/50\n",
      "592/603 [============================>.] - ETA: 1s - loss: 1.3063 - acc: 0.9680\n",
      "Epoch 00028: val_loss did not improve from 1.28507\n",
      "603/603 [==============================] - 86s 143ms/step - loss: 1.2932 - acc: 0.9682 - val_loss: 1.3236 - val_acc: 0.9659\n"
     ]
    },
    {
     "name": "stdout",
     "output_type": "stream",
     "text": [
      "Epoch 29/50\n",
      "592/603 [============================>.] - ETA: 1s - loss: 1.2476 - acc: 0.9693\n",
      "Epoch 00029: val_loss improved from 1.28507 to 1.23415, saving model to u-net-segmentation.h5\n",
      "603/603 [==============================] - 86s 143ms/step - loss: 1.2500 - acc: 0.9689 - val_loss: 1.2342 - val_acc: 0.9686\n",
      "Epoch 30/50\n",
      "592/603 [============================>.] - ETA: 1s - loss: 1.2601 - acc: 0.9690\n",
      "Epoch 00030: val_loss did not improve from 1.23415\n",
      "603/603 [==============================] - 87s 144ms/step - loss: 1.2479 - acc: 0.9691 - val_loss: 1.2591 - val_acc: 0.9673\n",
      "Epoch 31/50\n",
      "592/603 [============================>.] - ETA: 1s - loss: 1.2698 - acc: 0.9687\n",
      "Epoch 00031: val_loss did not improve from 1.23415\n",
      "603/603 [==============================] - 86s 143ms/step - loss: 1.2587 - acc: 0.9689 - val_loss: 1.2815 - val_acc: 0.9677\n",
      "Epoch 32/50\n",
      "144/603 [======>.......................] - ETA: 1:28:58 - loss: 1.4271 - acc: 0.9659"
     ]
    }
   ],
   "source": [
    "#fitting the model\n",
    "earlystopper = EarlyStopping(patience=5, verbose=1)\n",
    "checkpointer = ModelCheckpoint('u-net-segmentation.h5', verbose=1, save_best_only=True)\n",
    "results = model.fit(X_train, Y_train, validation_split=0.1, batch_size=16, epochs=50, \n",
    "                    callbacks=[earlystopper, checkpointer])"
   ]
  },
  {
   "cell_type": "code",
   "execution_count": 15,
   "metadata": {
    "scrolled": true
   },
   "outputs": [
    {
     "name": "stdout",
     "output_type": "stream",
     "text": [
      "1/1 [==============================] - 0s 211ms/step\n",
      "sample training image\n"
     ]
    },
    {
     "data": {
      "image/png": "[encoded data removed]",
      "text/plain": [
       "<PIL.Image.Image image mode=RGB size=128x128 at 0x7F83F3B42CF8>"
      ]
     },
     "metadata": {},
     "output_type": "display_data"
    },
    {
     "name": "stdout",
     "output_type": "stream",
     "text": [
      "prediction mask for the training image:\n"
     ]
    },
    {
     "data": {
      "image/png": "[encoded data removed]",
      "text/plain": [
       "<PIL.Image.Image image mode=RGB size=128x128 at 0x7F83F3B42940>"
      ]
     },
     "metadata": {},
     "output_type": "display_data"
    },
    {
     "name": "stdout",
     "output_type": "stream",
     "text": [
      "acutal mask for the training image:\n"
     ]
    },
    {
     "data": {
      "image/png": "[encoded data removed]",
      "text/plain": [
       "<PIL.Image.Image image mode=1 size=128x128 at 0x7F83F3B42940>"
      ]
     },
     "metadata": {},
     "output_type": "display_data"
    }
   ],
   "source": [
    "import cv2\n",
    "#testing on the training sample\n",
    "ix = random.randint(0, len(train_ids))\n",
    "model = load_model('u-net-segmentation.h5')\n",
    "img_pred = np.expand_dims(X_train[ix], axis=0)\n",
    "pred=model.predict(img_pred, verbose=1)\n",
    "img=(cv2.cvtColor(np.squeeze((np.round(pred))*255), cv2.COLOR_GRAY2BGR)).astype(np.uint8)\n",
    "print(\"sample training image\")\n",
    "display(Image.fromarray(X_train[ix]))\n",
    "print(\"prediction mask for the training image:\")\n",
    "display(Image.fromarray(img))\n",
    "print(\"acutal mask for the training image:\")\n",
    "display(Image.fromarray(np.squeeze(Y_train[ix])))\n"
   ]
  },
  {
   "cell_type": "code",
   "execution_count": 26,
   "metadata": {},
   "outputs": [
    {
     "name": "stdout",
     "output_type": "stream",
     "text": [
      "1/1 [==============================] - 3s 3s/step\n",
      "sample test image\n"
     ]
    },
    {
     "data": {
      "image/png": "[encoded data removed]",
      "text/plain": [
       "<PIL.Image.Image image mode=RGB size=128x128 at 0x7F839AF11470>"
      ]
     },
     "metadata": {},
     "output_type": "display_data"
    },
    {
     "name": "stdout",
     "output_type": "stream",
     "text": [
      "prediction mask for the test image:\n"
     ]
    },
    {
     "data": {
      "image/png": "[encoded data removed]",
      "text/plain": [
       "<PIL.Image.Image image mode=RGB size=128x128 at 0x7F839B4A0FD0>"
      ]
     },
     "metadata": {},
     "output_type": "display_data"
    }
   ],
   "source": [
    "import cv2\n",
    "from tensorflow.keras.models import Model, load_model\n",
    "#testing on the testing sample\n",
    "ix = random.randint(0, len(test_ids))\n",
    "model = load_model('u-net-segmentation.h5')\n",
    "img_pred = np.expand_dims(X_test[ix], axis=0)\n",
    "pred=model.predict(img_pred, verbose=1)\n",
    "img=(cv2.cvtColor(np.squeeze((np.round(pred))*255), cv2.COLOR_GRAY2BGR)).astype(np.uint8)\n",
    "print(\"sample test image\")\n",
    "display(Image.fromarray(X_test[ix]))\n",
    "print(\"prediction mask for the test image:\")\n",
    "display(Image.fromarray(img))\n"
   ]
  }
 ],
 "metadata": {
  "kernelspec": {
   "display_name": "Python 3",
   "language": "python",
   "name": "python3"
  },
  "language_info": {
   "codemirror_mode": {
    "name": "ipython",
    "version": 3
   },
   "file_extension": ".py",
   "mimetype": "text/x-python",
   "name": "python",
   "nbconvert_exporter": "python",
   "pygments_lexer": "ipython3",
   "version": "3.8.10"
  }
 },
 "nbformat": 4,
 "nbformat_minor": 4
}
